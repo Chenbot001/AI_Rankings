{
 "cells": [
  {
   "cell_type": "markdown",
   "metadata": {},
   "source": [
    "#### DBLP Publication Data Filtering for Analysis\n",
    "\n",
    "Using the DBLP spreadsheet created from dblp_mapping.ipynb, this notebook will filter the spreadsheet to obtain a table of publications matching a specific criteria depending on use case. Visualization can be produced with Python libraries but external BI software may be able to produce better dashboards and visualizations."
   ]
  },
  {
   "cell_type": "code",
   "execution_count": null,
   "metadata": {},
   "outputs": [],
   "source": [
    "# libs and functions for data processing\n",
    "import matplotlib.pyplot as plt\n",
    "import pandas as pd\n",
    "from collections import Counter, defaultdict\n",
    "import ast\n",
    "from tqdm import tqdm\n",
    "import heapq\n",
    "\n",
    "# create list of years based on input start and end years\n",
    "def year_list(start_year:int, end_year:int):\n",
    "    return [year for year in range(start_year, end_year + 1)]\n",
    "\n",
    "# look for target inst/country/region\n",
    "def contains_target(s, targets):\n",
    "    return not s.isdisjoint(targets)\n",
    "\n",
    "# category count by conference\n",
    "def count_by_conf(data:pd.DataFrame):\n",
    "    return data['Conference'].value_counts()\n",
    "\n",
    "# category count by year\n",
    "def count_by_year(data:pd.DataFrame):\n",
    "    return data['Year'].value_counts()\n",
    "\n",
    "# number of matching publications\n",
    "def count_total_publ(data:pd.DataFrame):\n",
    "    return len(data)\n",
    "\n",
    "# filter functions\n",
    "def filter_by_year(data:pd.DataFrame,target:list):\n",
    "    data = data[data['Year'].isin(target)]\n",
    "    return data\n",
    "\n",
    "def filter_by_conf(data:pd.DataFrame,target:list):\n",
    "    data = data[data['Conference'].isin(target)]\n",
    "    return data\n",
    "\n",
    "def filter_by_inst(data:pd.DataFrame,target:list):\n",
    "    data = data[data['Affiliations'].apply(contains_target, args=(target,))]\n",
    "    return data\n",
    "\n",
    "def filter_by_country(data:pd.DataFrame,target:list):\n",
    "    data = data[data['Countries'].apply(contains_target, args=(target,))]\n",
    "    return data\n",
    "\n",
    "def filter_by_region(data:pd.DataFrame,target:list):\n",
    "    data = data[data['Region'].apply(contains_target, args=(target,))]\n",
    "    return data\n",
    "\n",
    "# apply filter functions based on input parameters\n",
    "def search(data:pd.DataFrame,\n",
    "           lookup_years:list,\n",
    "           lookup_conf:list,\n",
    "           lookup_country:list,\n",
    "           lookup_region:list,\n",
    "           lookup_inst:list):\n",
    "    \n",
    "    # filter by year\n",
    "    if lookup_years:\n",
    "        data = filter_by_year(data,lookup_years)\n",
    "\n",
    "    # filter by conference\n",
    "    if lookup_conf:\n",
    "        data = filter_by_conf(data,lookup_conf)\n",
    "\n",
    "    # 3 choose 1\n",
    "    if lookup_country:\n",
    "        data = filter_by_country(data,lookup_country)\n",
    "    elif lookup_region:\n",
    "        data = filter_by_region(data,lookup_region)\n",
    "    elif lookup_inst:\n",
    "        data = filter_by_inst(data,lookup_inst)\n",
    "\n",
    "    return data\n",
    "\n",
    "# determine top N institutions from the filtered dataset\n",
    "def get_topN(top_n:int,data:pd.DataFrame):\n",
    "    publ_counts = Counter()\n",
    "\n",
    "    for row in data['Affiliations']:\n",
    "        publ_counts.update(row)\n",
    "\n",
    "    return heapq.nlargest(top_n, publ_counts, key=publ_counts.get)\n",
    "\n",
    "# get ranking of particular institution\n",
    "def get_ranking(data:pd.DataFrame,inst:str):\n",
    "    df = data.explode('Affiliations')\n",
    "    val_counts = df['Affiliations'].value_counts()\n",
    "    return val_counts.index.get_loc(inst)+1"
   ]
  },
  {
   "cell_type": "code",
   "execution_count": null,
   "metadata": {},
   "outputs": [],
   "source": [
    "# read and format csv data\n",
    "publications = pd.read_csv('DBLP_publications.csv')\n",
    "publications['Affiliations'] = publications['Affiliations'].apply(ast.literal_eval)\n",
    "publications['Countries'] = publications['Countries'].apply(ast.literal_eval)\n",
    "publications['Region'] = publications['Region'].apply(ast.literal_eval)"
   ]
  },
  {
   "cell_type": "markdown",
   "metadata": {},
   "source": [
    "#### Filters defined below"
   ]
  },
  {
   "cell_type": "code",
   "execution_count": null,
   "metadata": {},
   "outputs": [],
   "source": [
    "# filter parameters\n",
    "lookup_years = year_list(2014,2024) # filter by year\n",
    "#filter by conference, these represent the top conferences in AI\n",
    "lookup_conf = ['aaai','acl','cvpr','eccv','emnlp','iccv','iclr',\n",
    "           'icml','icra','ijcai','iros','naacl','nips','rss']\n",
    "\n",
    "lookup_country = [] # filter by country\n",
    "lookup_region = [] # filter by region\n",
    "lookup_inst = ['MBZUAI'] # filter by institution"
   ]
  },
  {
   "cell_type": "markdown",
   "metadata": {},
   "source": [
    "#### Top N Ranking (Global)"
   ]
  },
  {
   "cell_type": "code",
   "execution_count": null,
   "metadata": {},
   "outputs": [],
   "source": [
    "world_top = get_topN(10,search(publications,lookup_years,lookup_conf,lookup_country,lookup_region,lookup_inst))\n",
    "\n",
    "global_result = search(publications,lookup_years,lookup_conf,lookup_country,lookup_region,world_top)\n",
    "\n",
    "counts = defaultdict(Counter)\n",
    "\n",
    "for _, row in global_result.iterrows():\n",
    "    year = row['Year']\n",
    "    for value in world_top:\n",
    "        if value in row['Affiliations']:\n",
    "            counts[year][value] += 1\n",
    "\n",
    "filtered_counts = {year: {value: counts[year][value] for value in world_top} for year in counts}\n",
    "dict(sorted(filtered_counts.items()))"
   ]
  },
  {
   "cell_type": "markdown",
   "metadata": {},
   "source": [
    "#### Ranking of Particular Institution"
   ]
  },
  {
   "cell_type": "markdown",
   "metadata": {},
   "source": [
    "#### Institution Publications Sorted by Conference in Defined Year Range"
   ]
  },
  {
   "cell_type": "markdown",
   "metadata": {},
   "source": [
    "#### Institution Publications Sorted by Year"
   ]
  }
 ],
 "metadata": {
  "kernelspec": {
   "display_name": "ml",
   "language": "python",
   "name": "python3"
  },
  "language_info": {
   "name": "python",
   "version": "3.12.2"
  }
 },
 "nbformat": 4,
 "nbformat_minor": 2
}
